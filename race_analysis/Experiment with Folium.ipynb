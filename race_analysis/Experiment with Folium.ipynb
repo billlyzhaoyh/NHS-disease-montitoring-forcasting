{
 "cells": [
  {
   "cell_type": "code",
   "execution_count": 1,
   "metadata": {},
   "outputs": [],
   "source": [
    "from urllib.request import urlopen\n",
    "import json"
   ]
  },
  {
   "cell_type": "code",
   "execution_count": 2,
   "metadata": {},
   "outputs": [],
   "source": [
    "url_geo = \"https://opendata.arcgis.com/datasets/ef3c7d5a49c24aa7a318e95f93564899_0.geojson\"\n",
    "with urlopen(url_geo) as response:\n",
    "    ccg = json.load(response)\n",
    "print('json loaded')"
   ]
  },
  {
   "cell_type": "code",
   "execution_count": 3,
   "metadata": {},
   "outputs": [],
   "source": [
    "csv='./asian.csv'"
   ]
  },
  {
   "cell_type": "code",
   "execution_count": 11,
   "metadata": {},
   "outputs": [
    {
     "data": {
      "text/plain": [
       "<folium.map.LayerControl at 0x10522b190>"
      ]
     },
     "execution_count": 11,
     "metadata": {},
     "output_type": "execute_result"
    }
   ],
   "source": [
    "name_map=csv.split('.')[0]\n",
    "data = pd.read_csv(csv)\n",
    "columns_to_select=['GeoCode','Relative_difference']\n",
    "data=data[columns_to_select]\n",
    "updated_rel_difference=np.asarray(data['Relative_difference'].values.tolist())\n",
    "data['Relative_difference']=np.abs(updated_rel_difference)*100\n",
    "\n",
    "# Initialize the map:\n",
    "m = folium.Map(location=[51, -0], zoom_start=5)\n",
    "\n",
    "# Add the color for the chloropleth:\n",
    "folium.Choropleth(\n",
    "    geo_data=ccg,\n",
    "    name='choropleth',\n",
    "    data=data,\n",
    "    columns=['GeoCode', 'Relative_difference'],\n",
    "    nan_fill_color='purple',\n",
    "    nan_fill_opacity=0.1,\n",
    "    key_on='feature.properties.CCG19CD',\n",
    "    fill_color='YlGn',\n",
    "    fill_opacity=0.7,\n",
    "    line_opacity=0.2,\n",
    "    legend_name='Relaive difference between expected number /t of diagnosis and actual number of diagnosis'\n",
    "    ).add_to(m)\n",
    "folium.LayerControl(collapsed=False).add_to(m)"
   ]
  },
  {
   "cell_type": "code",
   "execution_count": 12,
   "metadata": {},
   "outputs": [],
   "source": [
    "m.save('test'+'.html')"
   ]
  },
  {
   "cell_type": "code",
   "execution_count": null,
   "metadata": {},
   "outputs": [],
   "source": []
  }
 ],
 "metadata": {
  "kernelspec": {
   "display_name": "Python 3",
   "language": "python",
   "name": "python3"
  },
  "language_info": {
   "codemirror_mode": {
    "name": "ipython",
    "version": 3
   },
   "file_extension": ".py",
   "mimetype": "text/x-python",
   "name": "python",
   "nbconvert_exporter": "python",
   "pygments_lexer": "ipython3",
   "version": "3.7.6"
  }
 },
 "nbformat": 4,
 "nbformat_minor": 4
}
