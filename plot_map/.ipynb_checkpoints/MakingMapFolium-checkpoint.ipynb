{
 "cells": [
  {
   "cell_type": "code",
   "execution_count": null,
   "metadata": {},
   "outputs": [],
   "source": [
    "# Import libraries\n",
    "import pandas as pd\n",
    "import folium\n",
    " \n",
    "# Load the shape of the zone (US states)\n",
    "# Find the original file here: https://github.com/python-visualization/folium/tree/master/examples/data\n",
    "# You have to download this file and set the directory where you saved it\n",
    "from urllib.request import urlopen\n",
    "import json\n",
    "url_geo = \"https://opendata.arcgis.com/datasets/ef3c7d5a49c24aa7a318e95f93564899_0.geojson\"\n",
    "with urlopen(url_geo) as response:\n",
    "    ccg = json.load(response)\n",
    "    \n",
    "# Load the unemployment value of each state\n",
    "# Find the original file here: https://github.com/python-visualization/folium/tree/master/examples/data\n",
    "data = pd.read_csv(\"gpSNAPSHOTtest.csv\")\n",
    "data[\"F/M\"] = np.divide(data[\"NumberFemales\"], data[\"NumberMales\"])\n",
    "\n",
    "df = data.groupby('CCG_GEOGRAPHY_CODE').agg({'prevalence': 'mean', \"F/M\": \"mean\"})\n",
    "df[\"GeoCode\"] = df.index.values\n",
    "df\n",
    "\n",
    "# Initialize the map:\n",
    "m = folium.Map(location=[51, -0], zoom_start=5)\n",
    "\n",
    "# Add the color for the chloropleth:\n",
    "folium.Choropleth(\n",
    " geo_data=ccg,\n",
    " name='choropleth',\n",
    " data=df,\n",
    " columns=['GeoCode', 'prevalence'],\n",
    " key_on='feature.properties.CCG19CD',\n",
    " fill_color='YlGn',\n",
    " fill_opacity=0.7,\n",
    " line_opacity=0.2,\n",
    " legend_name='Prevalence'\n",
    ").add_to(m)\n",
    "folium.LayerControl().add_to(m)\n",
    " \n",
    "    \n",
    "m\n"
   ]
  },
  {
   "cell_type": "code",
   "execution_count": null,
   "metadata": {},
   "outputs": [],
   "source": [
    "# Save to html\n",
    "m.save('prevalenceTest.html')"
   ]
  }
 ],
 "metadata": {
  "kernelspec": {
   "display_name": "Python 3",
   "language": "python",
   "name": "python3"
  },
  "language_info": {
   "codemirror_mode": {
    "name": "ipython",
    "version": 3
   },
   "file_extension": ".py",
   "mimetype": "text/x-python",
   "name": "python",
   "nbconvert_exporter": "python",
   "pygments_lexer": "ipython3",
   "version": "3.7.6"
  }
 },
 "nbformat": 4,
 "nbformat_minor": 2
}
