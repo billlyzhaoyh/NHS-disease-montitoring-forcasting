{
 "cells": [
  {
   "cell_type": "code",
   "execution_count": 1,
   "metadata": {},
   "outputs": [],
   "source": [
    "import glob\n",
    "import pandas as pd\n",
    "from tqdm import tqdm"
   ]
  },
  {
   "cell_type": "code",
   "execution_count": 2,
   "metadata": {},
   "outputs": [],
   "source": [
    "data_path='./time_series_data/Deprivation'"
   ]
  },
  {
   "cell_type": "code",
   "execution_count": 5,
   "metadata": {},
   "outputs": [],
   "source": [
    "file_path=glob.glob(data_path+'/*.csv')"
   ]
  },
  {
   "cell_type": "code",
   "execution_count": 33,
   "metadata": {},
   "outputs": [
    {
     "data": {
      "text/plain": [
       "['./time_series_data/Deprivation/2015IDAOPI.csv',\n",
       " './time_series_data/Deprivation/2019IDAOPI.csv']"
      ]
     },
     "execution_count": 33,
     "metadata": {},
     "output_type": "execute_result"
    }
   ],
   "source": [
    "file_path"
   ]
  },
  {
   "cell_type": "code",
   "execution_count": 34,
   "metadata": {},
   "outputs": [],
   "source": [
    "df1=pd.read_csv(file_path[0])\n",
    "df2=pd.read_csv(file_path[1])"
   ]
  },
  {
   "cell_type": "code",
   "execution_count": 35,
   "metadata": {},
   "outputs": [],
   "source": [
    "columns_to_selct1=['Clinical Commissioning Group Code (2015)','Income Deprivation Affecting Older People (IDAOPI) - Average score','Income Deprivation Affecting Older People (IDAOPI) - Proportion of LSOAs in most deprived 10% nationally']\n",
    "df1=df1[columns_to_selct1]\n",
    "df1.columns = ['GeoCode', 'IDAOPI_avg_score_2015','IDAOPI_most_deprived_proportion_2015']"
   ]
  },
  {
   "cell_type": "code",
   "execution_count": 36,
   "metadata": {},
   "outputs": [],
   "source": [
    "columns_to_selct2=['Clinical Commissioning Group Code (2019)','IDAOPI - Average score','IDAOPI - Proportion of LSOAs in most deprived 10% nationally']\n",
    "df2=df2[columns_to_selct2]\n",
    "df2.columns = ['GeoCode', 'IDAOPI_avg_score_2019','IDAOPI_most_deprived_proportion_2019']"
   ]
  },
  {
   "cell_type": "code",
   "execution_count": 37,
   "metadata": {},
   "outputs": [],
   "source": [
    "df1=df1.set_index('GeoCode')\n",
    "df2=df2.set_index('GeoCode')"
   ]
  },
  {
   "cell_type": "code",
   "execution_count": 39,
   "metadata": {},
   "outputs": [],
   "source": [
    "result =pd.concat([df1, df2], axis=1, sort=False)"
   ]
  },
  {
   "cell_type": "code",
   "execution_count": 42,
   "metadata": {},
   "outputs": [],
   "source": [
    "result.to_csv('social_deprivation1519.csv',index=True)"
   ]
  },
  {
   "cell_type": "code",
   "execution_count": null,
   "metadata": {},
   "outputs": [],
   "source": []
  }
 ],
 "metadata": {
  "kernelspec": {
   "display_name": "Python 3",
   "language": "python",
   "name": "python3"
  },
  "language_info": {
   "codemirror_mode": {
    "name": "ipython",
    "version": 3
   },
   "file_extension": ".py",
   "mimetype": "text/x-python",
   "name": "python",
   "nbconvert_exporter": "python",
   "pygments_lexer": "ipython3",
   "version": "3.7.6"
  }
 },
 "nbformat": 4,
 "nbformat_minor": 4
}
