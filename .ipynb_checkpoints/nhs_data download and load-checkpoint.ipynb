{
 "cells": [
  {
   "cell_type": "code",
   "execution_count": 1,
   "metadata": {},
   "outputs": [
    {
     "name": "stdout",
     "output_type": "stream",
     "text": [
      "Starting download ...\n",
      "Unpacking archive ...\n",
      "Unpacking archive ...\n",
      "Unpacking archive ...\n",
      "Unpacking archive ...\n",
      "Done!\n"
     ]
    }
   ],
   "source": [
    "# Download data - please only run this once\n",
    "import urllib.request\n",
    "import zipfile\n",
    "import os\n",
    "\n",
    "print(\"Starting download ...\")\n",
    "urls = [\n",
    "    \"https://files.digital.nhs.uk/FA/4D7547/stat-stop-smok-serv-eng-q4-1819-csv-v2.zip\",\n",
    "    \"https://files.digital.nhs.uk/72/CB2869/qof-1718-csv.zip\",\n",
    "    \"https://files.digital.nhs.uk/CF/0043C6/gp-reg-pat-prac-lsoa-male-female-jan-19.zip\",\n",
    "    \"https://github.com/aihack20/nhs_challenge/releases/download/v1.0/NHS_challenge_data.zip\",\n",
    "]\n",
    "os.makedirs(\"nhs_data\", exist_ok=True)\n",
    "for url in urls:\n",
    "    with urllib.request.urlopen(url) as src:\n",
    "        with open(\"tmp.zip\", \"wb\") as dest:\n",
    "            dest.write(src.read())\n",
    "    print(\"Unpacking archive ...\")\n",
    "    with zipfile.ZipFile(\"tmp.zip\") as f:\n",
    "        f.extractall(\"nhs_data\")\n",
    "print(\"Done!\")"
   ]
  },
  {
   "cell_type": "code",
   "execution_count": null,
   "metadata": {},
   "outputs": [],
   "source": [
    "import pandas as pd\n",
    "from matplotlib import pyplot as plt\n",
    "import os"
   ]
  },
  {
   "cell_type": "code",
   "execution_count": null,
   "metadata": {},
   "outputs": [],
   "source": [
    "# Load the data (will take a short while)\n",
    "data = {}\n",
    "for file in os.listdir(\"nhs_data\"):\n",
    "    if file[-4:] != \".csv\":\n",
    "        continue\n",
    "    if file in [\"INDICATOR_MAPPINGS.csv\", \"CCG_EXCEPTIONS_EXCLUSIONS.csv\"]:\n",
    "        continue\n",
    "    print(\"Loading {} ...\".format(file))\n",
    "    data[file[:-4]] = pd.read_csv(\"nhs_data/{}\".format(file))\n",
    "print(\"Done!\")"
   ]
  },
  {
   "cell_type": "code",
   "execution_count": null,
   "metadata": {},
   "outputs": [],
   "source": []
  }
 ],
 "metadata": {
  "kernelspec": {
   "display_name": "Python 3",
   "language": "python",
   "name": "python3"
  },
  "language_info": {
   "codemirror_mode": {
    "name": "ipython",
    "version": 3
   },
   "file_extension": ".py",
   "mimetype": "text/x-python",
   "name": "python",
   "nbconvert_exporter": "python",
   "pygments_lexer": "ipython3",
   "version": "3.7.6"
  }
 },
 "nbformat": 4,
 "nbformat_minor": 4
}
